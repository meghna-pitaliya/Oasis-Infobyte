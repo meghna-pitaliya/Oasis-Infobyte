{
 "cells": [
  {
   "cell_type": "markdown",
   "id": "f6905d59",
   "metadata": {},
   "source": [
    "Project summary and steps\n",
    "1. Data Acquisition\n",
    "2. Data Preprocessing\n",
    "3. Data EDA\n",
    "4. Model Building\n",
    "5. Model Conclusion\n",
    "6. key insight - Recognized the significance of accurate sales prediction for cost optimization and data-driven decision-making in businesses."
   ]
  },
  {
   "cell_type": "markdown",
   "id": "9656b90d",
   "metadata": {},
   "source": [
    "# Import Dependencies"
   ]
  },
  {
   "cell_type": "code",
   "execution_count": 40,
   "id": "72c0fecd",
   "metadata": {},
   "outputs": [],
   "source": [
    "import numpy as np\n",
    "import pandas as pd \n",
    "import matplotlib.pyplot as plt\n",
    "import seaborn as sns \n",
    "import os\n",
    "import warnings \n",
    "from sklearn.model_selection import train_test_split\n",
    "from sklearn.metrics import  r2_score, mean_squared_error\n",
    "from sklearn.linear_model import LinearRegression\n",
    "import statsmodels.api as sm\n",
    "from sklearn.linear_model import LinearRegression\n",
    "from sklearn.tree import DecisionTreeRegressor\n",
    "from sklearn.ensemble import RandomForestRegressor, GradientBoostingRegressor, AdaBoostRegressor\n",
    "from xgboost import XGBRegressor"
   ]
  },
  {
   "cell_type": "markdown",
   "id": "f4e4ae3c",
   "metadata": {},
   "source": [
    "# Data Read ,Clean and Pre-Processing"
   ]
  },
  {
   "cell_type": "code",
   "execution_count": 41,
   "id": "9e1a4317",
   "metadata": {},
   "outputs": [
    {
     "data": {
      "text/html": [
       "<div>\n",
       "<style scoped>\n",
       "    .dataframe tbody tr th:only-of-type {\n",
       "        vertical-align: middle;\n",
       "    }\n",
       "\n",
       "    .dataframe tbody tr th {\n",
       "        vertical-align: top;\n",
       "    }\n",
       "\n",
       "    .dataframe thead th {\n",
       "        text-align: right;\n",
       "    }\n",
       "</style>\n",
       "<table border=\"1\" class=\"dataframe\">\n",
       "  <thead>\n",
       "    <tr style=\"text-align: right;\">\n",
       "      <th></th>\n",
       "      <th>Unnamed: 0</th>\n",
       "      <th>TV</th>\n",
       "      <th>Radio</th>\n",
       "      <th>Newspaper</th>\n",
       "      <th>Sales</th>\n",
       "    </tr>\n",
       "  </thead>\n",
       "  <tbody>\n",
       "    <tr>\n",
       "      <th>0</th>\n",
       "      <td>1</td>\n",
       "      <td>230.1</td>\n",
       "      <td>37.8</td>\n",
       "      <td>69.2</td>\n",
       "      <td>22.1</td>\n",
       "    </tr>\n",
       "    <tr>\n",
       "      <th>1</th>\n",
       "      <td>2</td>\n",
       "      <td>44.5</td>\n",
       "      <td>39.3</td>\n",
       "      <td>45.1</td>\n",
       "      <td>10.4</td>\n",
       "    </tr>\n",
       "    <tr>\n",
       "      <th>2</th>\n",
       "      <td>3</td>\n",
       "      <td>17.2</td>\n",
       "      <td>45.9</td>\n",
       "      <td>69.3</td>\n",
       "      <td>9.3</td>\n",
       "    </tr>\n",
       "    <tr>\n",
       "      <th>3</th>\n",
       "      <td>4</td>\n",
       "      <td>151.5</td>\n",
       "      <td>41.3</td>\n",
       "      <td>58.5</td>\n",
       "      <td>18.5</td>\n",
       "    </tr>\n",
       "    <tr>\n",
       "      <th>4</th>\n",
       "      <td>5</td>\n",
       "      <td>180.8</td>\n",
       "      <td>10.8</td>\n",
       "      <td>58.4</td>\n",
       "      <td>12.9</td>\n",
       "    </tr>\n",
       "    <tr>\n",
       "      <th>...</th>\n",
       "      <td>...</td>\n",
       "      <td>...</td>\n",
       "      <td>...</td>\n",
       "      <td>...</td>\n",
       "      <td>...</td>\n",
       "    </tr>\n",
       "    <tr>\n",
       "      <th>195</th>\n",
       "      <td>196</td>\n",
       "      <td>38.2</td>\n",
       "      <td>3.7</td>\n",
       "      <td>13.8</td>\n",
       "      <td>7.6</td>\n",
       "    </tr>\n",
       "    <tr>\n",
       "      <th>196</th>\n",
       "      <td>197</td>\n",
       "      <td>94.2</td>\n",
       "      <td>4.9</td>\n",
       "      <td>8.1</td>\n",
       "      <td>9.7</td>\n",
       "    </tr>\n",
       "    <tr>\n",
       "      <th>197</th>\n",
       "      <td>198</td>\n",
       "      <td>177.0</td>\n",
       "      <td>9.3</td>\n",
       "      <td>6.4</td>\n",
       "      <td>12.8</td>\n",
       "    </tr>\n",
       "    <tr>\n",
       "      <th>198</th>\n",
       "      <td>199</td>\n",
       "      <td>283.6</td>\n",
       "      <td>42.0</td>\n",
       "      <td>66.2</td>\n",
       "      <td>25.5</td>\n",
       "    </tr>\n",
       "    <tr>\n",
       "      <th>199</th>\n",
       "      <td>200</td>\n",
       "      <td>232.1</td>\n",
       "      <td>8.6</td>\n",
       "      <td>8.7</td>\n",
       "      <td>13.4</td>\n",
       "    </tr>\n",
       "  </tbody>\n",
       "</table>\n",
       "<p>200 rows × 5 columns</p>\n",
       "</div>"
      ],
      "text/plain": [
       "     Unnamed: 0     TV  Radio  Newspaper  Sales\n",
       "0             1  230.1   37.8       69.2   22.1\n",
       "1             2   44.5   39.3       45.1   10.4\n",
       "2             3   17.2   45.9       69.3    9.3\n",
       "3             4  151.5   41.3       58.5   18.5\n",
       "4             5  180.8   10.8       58.4   12.9\n",
       "..          ...    ...    ...        ...    ...\n",
       "195         196   38.2    3.7       13.8    7.6\n",
       "196         197   94.2    4.9        8.1    9.7\n",
       "197         198  177.0    9.3        6.4   12.8\n",
       "198         199  283.6   42.0       66.2   25.5\n",
       "199         200  232.1    8.6        8.7   13.4\n",
       "\n",
       "[200 rows x 5 columns]"
      ]
     },
     "execution_count": 41,
     "metadata": {},
     "output_type": "execute_result"
    }
   ],
   "source": [
    "ads_df = pd.read_csv(r'C:\\Users\\meghn\\OneDrive\\Desktop\\Advertising.csv')\n",
    "ads_df"
   ]
  },
  {
   "cell_type": "code",
   "execution_count": 42,
   "id": "3e6d8978",
   "metadata": {},
   "outputs": [
    {
     "name": "stdout",
     "output_type": "stream",
     "text": [
      "<class 'pandas.core.frame.DataFrame'>\n",
      "RangeIndex: 200 entries, 0 to 199\n",
      "Data columns (total 5 columns):\n",
      " #   Column      Non-Null Count  Dtype  \n",
      "---  ------      --------------  -----  \n",
      " 0   Unnamed: 0  200 non-null    int64  \n",
      " 1   TV          200 non-null    float64\n",
      " 2   Radio       200 non-null    float64\n",
      " 3   Newspaper   200 non-null    float64\n",
      " 4   Sales       200 non-null    float64\n",
      "dtypes: float64(4), int64(1)\n",
      "memory usage: 7.9 KB\n"
     ]
    }
   ],
   "source": [
    "# Cheking the information of dataframe\n",
    "ads_df.info()"
   ]
  },
  {
   "cell_type": "code",
   "execution_count": 43,
   "id": "f0e2c78e",
   "metadata": {},
   "outputs": [
    {
     "data": {
      "text/html": [
       "<div>\n",
       "<style scoped>\n",
       "    .dataframe tbody tr th:only-of-type {\n",
       "        vertical-align: middle;\n",
       "    }\n",
       "\n",
       "    .dataframe tbody tr th {\n",
       "        vertical-align: top;\n",
       "    }\n",
       "\n",
       "    .dataframe thead th {\n",
       "        text-align: right;\n",
       "    }\n",
       "</style>\n",
       "<table border=\"1\" class=\"dataframe\">\n",
       "  <thead>\n",
       "    <tr style=\"text-align: right;\">\n",
       "      <th></th>\n",
       "      <th>Unnamed: 0</th>\n",
       "      <th>TV</th>\n",
       "      <th>Radio</th>\n",
       "      <th>Newspaper</th>\n",
       "      <th>Sales</th>\n",
       "    </tr>\n",
       "  </thead>\n",
       "  <tbody>\n",
       "    <tr>\n",
       "      <th>count</th>\n",
       "      <td>200.000000</td>\n",
       "      <td>200.000000</td>\n",
       "      <td>200.000000</td>\n",
       "      <td>200.000000</td>\n",
       "      <td>200.000000</td>\n",
       "    </tr>\n",
       "    <tr>\n",
       "      <th>mean</th>\n",
       "      <td>100.500000</td>\n",
       "      <td>147.042500</td>\n",
       "      <td>23.264000</td>\n",
       "      <td>30.554000</td>\n",
       "      <td>14.022500</td>\n",
       "    </tr>\n",
       "    <tr>\n",
       "      <th>std</th>\n",
       "      <td>57.879185</td>\n",
       "      <td>85.854236</td>\n",
       "      <td>14.846809</td>\n",
       "      <td>21.778621</td>\n",
       "      <td>5.217457</td>\n",
       "    </tr>\n",
       "    <tr>\n",
       "      <th>min</th>\n",
       "      <td>1.000000</td>\n",
       "      <td>0.700000</td>\n",
       "      <td>0.000000</td>\n",
       "      <td>0.300000</td>\n",
       "      <td>1.600000</td>\n",
       "    </tr>\n",
       "    <tr>\n",
       "      <th>25%</th>\n",
       "      <td>50.750000</td>\n",
       "      <td>74.375000</td>\n",
       "      <td>9.975000</td>\n",
       "      <td>12.750000</td>\n",
       "      <td>10.375000</td>\n",
       "    </tr>\n",
       "    <tr>\n",
       "      <th>50%</th>\n",
       "      <td>100.500000</td>\n",
       "      <td>149.750000</td>\n",
       "      <td>22.900000</td>\n",
       "      <td>25.750000</td>\n",
       "      <td>12.900000</td>\n",
       "    </tr>\n",
       "    <tr>\n",
       "      <th>75%</th>\n",
       "      <td>150.250000</td>\n",
       "      <td>218.825000</td>\n",
       "      <td>36.525000</td>\n",
       "      <td>45.100000</td>\n",
       "      <td>17.400000</td>\n",
       "    </tr>\n",
       "    <tr>\n",
       "      <th>max</th>\n",
       "      <td>200.000000</td>\n",
       "      <td>296.400000</td>\n",
       "      <td>49.600000</td>\n",
       "      <td>114.000000</td>\n",
       "      <td>27.000000</td>\n",
       "    </tr>\n",
       "  </tbody>\n",
       "</table>\n",
       "</div>"
      ],
      "text/plain": [
       "       Unnamed: 0          TV       Radio   Newspaper       Sales\n",
       "count  200.000000  200.000000  200.000000  200.000000  200.000000\n",
       "mean   100.500000  147.042500   23.264000   30.554000   14.022500\n",
       "std     57.879185   85.854236   14.846809   21.778621    5.217457\n",
       "min      1.000000    0.700000    0.000000    0.300000    1.600000\n",
       "25%     50.750000   74.375000    9.975000   12.750000   10.375000\n",
       "50%    100.500000  149.750000   22.900000   25.750000   12.900000\n",
       "75%    150.250000  218.825000   36.525000   45.100000   17.400000\n",
       "max    200.000000  296.400000   49.600000  114.000000   27.000000"
      ]
     },
     "execution_count": 43,
     "metadata": {},
     "output_type": "execute_result"
    }
   ],
   "source": [
    "# Here we easily seen the distribution of dataset with the help of all central tendencies \n",
    "ads_df.describe()"
   ]
  },
  {
   "cell_type": "code",
   "execution_count": 44,
   "id": "d33995de",
   "metadata": {},
   "outputs": [
    {
     "data": {
      "text/plain": [
       "Unnamed: 0    0\n",
       "TV            0\n",
       "Radio         0\n",
       "Newspaper     0\n",
       "Sales         0\n",
       "dtype: int64"
      ]
     },
     "execution_count": 44,
     "metadata": {},
     "output_type": "execute_result"
    }
   ],
   "source": [
    "# checking of null values \n",
    "ads_df.isnull().sum()"
   ]
  },
  {
   "cell_type": "code",
   "execution_count": 45,
   "id": "e11b4034",
   "metadata": {},
   "outputs": [
    {
     "data": {
      "text/plain": [
       "0"
      ]
     },
     "execution_count": 45,
     "metadata": {},
     "output_type": "execute_result"
    }
   ],
   "source": [
    "# checking for duplicate values \n",
    "ads_df.duplicated().sum()"
   ]
  },
  {
   "cell_type": "code",
   "execution_count": 46,
   "id": "7b30cb9d",
   "metadata": {},
   "outputs": [],
   "source": [
    "# Droping unwanted column\n",
    "ads_df.drop(['Unnamed: 0'], axis=1, inplace = True)"
   ]
  },
  {
   "cell_type": "code",
   "execution_count": 47,
   "id": "2e6e7826",
   "metadata": {},
   "outputs": [
    {
     "data": {
      "text/plain": [
       "Text(0.5, 1.0, 'Columns Scatter Plot')"
      ]
     },
     "execution_count": 47,
     "metadata": {},
     "output_type": "execute_result"
    },
    {
     "data": {
      "image/png": "[encoded data removed]",
      "text/plain": [
       "<Figure size 540x180 with 3 Axes>"
      ]
     },
     "metadata": {
      "needs_background": "light"
     },
     "output_type": "display_data"
    }
   ],
   "source": [
    "# Pair Plot of the columns \n",
    "sns.pairplot(ads_df, x_vars=['TV','Radio','Newspaper'], y_vars='Sales')\n",
    "plt.title('Columns Scatter Plot')"
   ]
  },
  {
   "cell_type": "markdown",
   "id": "cea5732f",
   "metadata": {},
   "source": [
    "# Handling Outliers in the Column"
   ]
  },
  {
   "cell_type": "code",
   "execution_count": 48,
   "id": "25229111",
   "metadata": {},
   "outputs": [
    {
     "data": {
      "text/plain": [
       "<AxesSubplot:>"
      ]
     },
     "execution_count": 48,
     "metadata": {},
     "output_type": "execute_result"
    },
    {
     "data": {
      "image/png": "[encoded data removed]",
      "text/plain": [
       "<Figure size 432x288 with 1 Axes>"
      ]
     },
     "metadata": {
      "needs_background": "light"
     },
     "output_type": "display_data"
    }
   ],
   "source": [
    "ads_df.boxplot()"
   ]
  },
  {
   "cell_type": "markdown",
   "id": "eabc09a6",
   "metadata": {},
   "source": [
    "Upon closer examination of our dataset, we've identified the presence of outliers in the \"Newspaper\" column. These outliers represent data points that deviate significantly from the majority, potentially affecting our analysis. However, it's worth noting that outliers are not limited to this column alone.\n",
    "The \"TV\" column, in particular, stands out due to its large numerical values. These values can be considered outliers when compared to the rest of the data. This column's magnitude can have a significant impact on our model's accuracy. In some cases, it may even lead to misleadingly high accuracy during training. Furthermore, the \"TV\" column carries a substantial weight in the decision-making process, potentially introducing bias into our models.."
   ]
  },
  {
   "cell_type": "code",
   "execution_count": 49,
   "id": "05e37be1",
   "metadata": {},
   "outputs": [],
   "source": [
    "# Cliping the Outlier values\n",
    "# Calculate Q1 and Q3 for each column\n",
    "q1 = ads_df.quantile(0.25)\n",
    "q3 = ads_df.quantile(0.75)\n",
    "iqr = q3 - q1\n",
    "\n",
    "# Calculate lower and upper bounds for clipping\n",
    "lower_bound = q1 - 1.5 * iqr\n",
    "upper_bound = q3 + 1.5 * iqr\n",
    "\n",
    "# clip values within the IQR range\n",
    "new_capped_df = ads_df.apply(lambda x: x.clip(lower=lower_bound[x.name], upper=upper_bound[x.name]))"
   ]
  },
  {
   "cell_type": "code",
   "execution_count": 50,
   "id": "a96fb322",
   "metadata": {},
   "outputs": [
    {
     "data": {
      "text/plain": [
       "<AxesSubplot:>"
      ]
     },
     "execution_count": 50,
     "metadata": {},
     "output_type": "execute_result"
    },
    {
     "data": {
      "image/png": "[encoded data removed]",
      "text/plain": [
       "<Figure size 432x288 with 1 Axes>"
      ]
     },
     "metadata": {
      "needs_background": "light"
     },
     "output_type": "display_data"
    }
   ],
   "source": [
    "new_capped_df.boxplot()"
   ]
  },
  {
   "cell_type": "markdown",
   "id": "64c9b504",
   "metadata": {},
   "source": [
    "# Data Scaling"
   ]
  },
  {
   "cell_type": "code",
   "execution_count": 51,
   "id": "ef8959a2",
   "metadata": {},
   "outputs": [],
   "source": [
    "from sklearn.preprocessing import StandardScaler,MinMaxScaler\n",
    "SS = StandardScaler()\n",
    "new_scaled_df=SS.fit_transform(new_capped_df)"
   ]
  },
  {
   "cell_type": "code",
   "execution_count": 52,
   "id": "4a206f30",
   "metadata": {},
   "outputs": [
    {
     "data": {
      "text/plain": [
       "<AxesSubplot:>"
      ]
     },
     "execution_count": 52,
     "metadata": {},
     "output_type": "execute_result"
    },
    {
     "data": {
      "image/png": "[encoded data removed]",
      "text/plain": [
       "<Figure size 432x288 with 1 Axes>"
      ]
     },
     "metadata": {
      "needs_background": "light"
     },
     "output_type": "display_data"
    }
   ],
   "source": [
    "new_scaled_df= pd.DataFrame(data= new_scaled_df, columns= new_capped_df.columns)\n",
    "new_scaled_df.boxplot()"
   ]
  },
  {
   "cell_type": "markdown",
   "id": "24e5ffe5",
   "metadata": {},
   "source": [
    "# Model Building"
   ]
  },
  {
   "cell_type": "code",
   "execution_count": 53,
   "id": "d96b3b89",
   "metadata": {},
   "outputs": [
    {
     "name": "stdout",
     "output_type": "stream",
     "text": [
      "(160, 3) (40, 3)\n"
     ]
    }
   ],
   "source": [
    "#Making data ready for training and testing  by spliting the data into train and test\n",
    "x= new_scaled_df.drop(['Sales'],axis=1)\n",
    "y=new_scaled_df['Sales']\n",
    "\n",
    "x_train,x_test,y_train,y_test = train_test_split(x,y,test_size=0.20, random_state=101)\n",
    "print(x_train.shape, x_test.shape)"
   ]
  },
  {
   "cell_type": "code",
   "execution_count": 54,
   "id": "8652a99b",
   "metadata": {},
   "outputs": [],
   "source": [
    "training_score_R2 = []\n",
    "testing_score_R2 = []\n",
    "training_score_mse = []\n",
    "testing_score_mse = []\n",
    "training_score_rmse = []\n",
    "testing_score_rmse = []"
   ]
  },
  {
   "cell_type": "code",
   "execution_count": 55,
   "id": "78e169e4",
   "metadata": {},
   "outputs": [],
   "source": [
    "from sklearn.metrics import r2_score, mean_squared_error\n",
    "import numpy as np\n",
    "\n",
    "def model_prediction_func(model):\n",
    "    model.fit(x_train, y_train)\n",
    "    x_train_pred = model.predict(x_train)\n",
    "    x_test_pred = model.predict(x_test)\n",
    "    \n",
    "    # Calculating R2 score \n",
    "    R2_score_train = r2_score(y_train, x_train_pred) *100\n",
    "    R2_score_test = r2_score(y_test, x_test_pred ) *100\n",
    "    \n",
    "    # Calculate Mean Squared Error (MSE)\n",
    "    mse_train = mean_squared_error(y_train, x_train_pred)\n",
    "    mse_test =  mean_squared_error(y_test, x_test_pred)\n",
    "    \n",
    "    # Calculate Root Mean squared Error (RMSE)\n",
    "    rmse_train = np.sqrt(mse_train)\n",
    "    rmse_test = np.sqrt(mse_test)\n",
    "\n",
    "\n",
    "    training_score_R2.append(R2_score_train)\n",
    "    testing_score_R2.append(R2_score_test)\n",
    "    training_score_mse.append(mse_train)\n",
    "    testing_score_mse.append(mse_test)\n",
    "    training_score_rmse.append(rmse_train)\n",
    "    testing_score_rmse.append(rmse_test)\n",
    "    \n",
    "\n",
    "    # Print R2, MSE, and RMSE scores\n",
    "    print(f\"R2 Score of training data : {R2_score_train:.2f} \")\n",
    "    print(f\"R2 Score of testing data  : {R2_score_test:.2f}\")\n",
    "    print(f\"MSE of trainig data       : {mse_train:.2f}\")\n",
    "    print(f\"MSE of training data      : {mse_test:.2f}\")\n",
    "    print(f\"RMSE of training data     : {rmse_train:.2f}\")\n",
    "    print(f\"RMSE of testing           : {rmse_test:.2f}\")\n",
    "    "
   ]
  },
  {
   "cell_type": "code",
   "execution_count": 56,
   "id": "1b8b3417",
   "metadata": {},
   "outputs": [
    {
     "name": "stdout",
     "output_type": "stream",
     "text": [
      "R2 Score of training data : 88.77 \n",
      "R2 Score of testing data  : 93.03\n",
      "MSE of trainig data       : 0.11\n",
      "MSE of training data      : 0.08\n",
      "RMSE of training data     : 0.33\n",
      "RMSE of testing           : 0.28\n"
     ]
    }
   ],
   "source": [
    "model_prediction_func(LinearRegression())"
   ]
  },
  {
   "cell_type": "code",
   "execution_count": 57,
   "id": "a73e18e4",
   "metadata": {},
   "outputs": [
    {
     "name": "stdout",
     "output_type": "stream",
     "text": [
      "R2 Score of training data : 100.00 \n",
      "R2 Score of testing data  : 95.23\n",
      "MSE of trainig data       : 0.00\n",
      "MSE of training data      : 0.05\n",
      "RMSE of training data     : 0.00\n",
      "RMSE of testing           : 0.23\n"
     ]
    }
   ],
   "source": [
    "model_prediction_func(DecisionTreeRegressor())"
   ]
  },
  {
   "cell_type": "code",
   "execution_count": 58,
   "id": "a09caeec",
   "metadata": {},
   "outputs": [
    {
     "name": "stdout",
     "output_type": "stream",
     "text": [
      "R2 Score of training data : 99.68 \n",
      "R2 Score of testing data  : 98.15\n",
      "MSE of trainig data       : 0.00\n",
      "MSE of training data      : 0.02\n",
      "RMSE of training data     : 0.06\n",
      "RMSE of testing           : 0.14\n"
     ]
    }
   ],
   "source": [
    "model_prediction_func(RandomForestRegressor())"
   ]
  },
  {
   "cell_type": "code",
   "execution_count": 59,
   "id": "a6bfb1af",
   "metadata": {},
   "outputs": [
    {
     "name": "stdout",
     "output_type": "stream",
     "text": [
      "R2 Score of training data : 97.52 \n",
      "R2 Score of testing data  : 95.70\n",
      "MSE of trainig data       : 0.02\n",
      "MSE of training data      : 0.05\n",
      "RMSE of training data     : 0.16\n",
      "RMSE of testing           : 0.22\n"
     ]
    }
   ],
   "source": [
    "model_prediction_func(AdaBoostRegressor())"
   ]
  },
  {
   "cell_type": "code",
   "execution_count": 60,
   "id": "55db21ff",
   "metadata": {
    "scrolled": true
   },
   "outputs": [
    {
     "name": "stdout",
     "output_type": "stream",
     "text": [
      "R2 Score of training data : 99.84 \n",
      "R2 Score of testing data  : 98.68\n",
      "MSE of trainig data       : 0.00\n",
      "MSE of training data      : 0.01\n",
      "RMSE of training data     : 0.04\n",
      "RMSE of testing           : 0.12\n"
     ]
    }
   ],
   "source": [
    "model_prediction_func(GradientBoostingRegressor())"
   ]
  },
  {
   "cell_type": "code",
   "execution_count": 61,
   "id": "90a1de75",
   "metadata": {},
   "outputs": [
    {
     "name": "stdout",
     "output_type": "stream",
     "text": [
      "R2 Score of training data : 99.84 \n",
      "R2 Score of testing data  : 98.69\n",
      "MSE of trainig data       : 0.00\n",
      "MSE of training data      : 0.01\n",
      "RMSE of training data     : 0.04\n",
      "RMSE of testing           : 0.12\n"
     ]
    }
   ],
   "source": [
    "model_prediction_func(GradientBoostingRegressor())"
   ]
  },
  {
   "cell_type": "code",
   "execution_count": 62,
   "id": "f8797823",
   "metadata": {},
   "outputs": [],
   "source": [
    "Models = ['Linear Regression','DecisionTree Regressor','RandomForest Regressor','ADA boost','GredientDecent Regressor','XGBoost Regressor']\n"
   ]
  },
  {
   "cell_type": "code",
   "execution_count": 63,
   "id": "567badfd",
   "metadata": {},
   "outputs": [],
   "source": [
    "Results_Dataframe = pd.DataFrame({'Algorithms': Models,'Training Score_R2': training_score_R2,'Testing Score_R2': testing_score_R2 ,\n",
    "                                  'Training Score_mse': training_score_mse,'Testing Score_mse': testing_score_mse,\n",
    "                                  'Training Score_rmse' : training_score_rmse,'Testing Score_rmse': testing_score_rmse})\n",
    "\n",
    "\n"
   ]
  },
  {
   "cell_type": "markdown",
   "id": "4e1b7541",
   "metadata": {},
   "source": [
    "# All Result Tabulation\n"
   ]
  },
  {
   "cell_type": "code",
   "execution_count": 64,
   "id": "a75bdaa8",
   "metadata": {},
   "outputs": [
    {
     "data": {
      "text/html": [
       "<div>\n",
       "<style scoped>\n",
       "    .dataframe tbody tr th:only-of-type {\n",
       "        vertical-align: middle;\n",
       "    }\n",
       "\n",
       "    .dataframe tbody tr th {\n",
       "        vertical-align: top;\n",
       "    }\n",
       "\n",
       "    .dataframe thead th {\n",
       "        text-align: right;\n",
       "    }\n",
       "</style>\n",
       "<table border=\"1\" class=\"dataframe\">\n",
       "  <thead>\n",
       "    <tr style=\"text-align: right;\">\n",
       "      <th></th>\n",
       "      <th>Algorithms</th>\n",
       "      <th>Training Score_R2</th>\n",
       "      <th>Testing Score_R2</th>\n",
       "      <th>Training Score_mse</th>\n",
       "      <th>Testing Score_mse</th>\n",
       "      <th>Training Score_rmse</th>\n",
       "      <th>Testing Score_rmse</th>\n",
       "    </tr>\n",
       "  </thead>\n",
       "  <tbody>\n",
       "    <tr>\n",
       "      <th>0</th>\n",
       "      <td>Linear Regression</td>\n",
       "      <td>88.765454</td>\n",
       "      <td>93.029571</td>\n",
       "      <td>0.109611</td>\n",
       "      <td>0.076201</td>\n",
       "      <td>0.331076</td>\n",
       "      <td>0.276045</td>\n",
       "    </tr>\n",
       "    <tr>\n",
       "      <th>1</th>\n",
       "      <td>DecisionTree Regressor</td>\n",
       "      <td>100.000000</td>\n",
       "      <td>95.227159</td>\n",
       "      <td>0.000000</td>\n",
       "      <td>0.052177</td>\n",
       "      <td>0.000000</td>\n",
       "      <td>0.228423</td>\n",
       "    </tr>\n",
       "    <tr>\n",
       "      <th>2</th>\n",
       "      <td>RandomForest Regressor</td>\n",
       "      <td>99.677507</td>\n",
       "      <td>98.149499</td>\n",
       "      <td>0.003146</td>\n",
       "      <td>0.020230</td>\n",
       "      <td>0.056093</td>\n",
       "      <td>0.142231</td>\n",
       "    </tr>\n",
       "    <tr>\n",
       "      <th>3</th>\n",
       "      <td>ADA boost</td>\n",
       "      <td>97.517107</td>\n",
       "      <td>95.701375</td>\n",
       "      <td>0.024225</td>\n",
       "      <td>0.046993</td>\n",
       "      <td>0.155643</td>\n",
       "      <td>0.216778</td>\n",
       "    </tr>\n",
       "    <tr>\n",
       "      <th>4</th>\n",
       "      <td>GredientDecent Regressor</td>\n",
       "      <td>99.835965</td>\n",
       "      <td>98.679276</td>\n",
       "      <td>0.001600</td>\n",
       "      <td>0.014438</td>\n",
       "      <td>0.040005</td>\n",
       "      <td>0.120159</td>\n",
       "    </tr>\n",
       "    <tr>\n",
       "      <th>5</th>\n",
       "      <td>XGBoost Regressor</td>\n",
       "      <td>99.835965</td>\n",
       "      <td>98.693905</td>\n",
       "      <td>0.001600</td>\n",
       "      <td>0.014278</td>\n",
       "      <td>0.040005</td>\n",
       "      <td>0.119492</td>\n",
       "    </tr>\n",
       "  </tbody>\n",
       "</table>\n",
       "</div>"
      ],
      "text/plain": [
       "                 Algorithms  Training Score_R2  Testing Score_R2  \\\n",
       "0         Linear Regression          88.765454         93.029571   \n",
       "1    DecisionTree Regressor         100.000000         95.227159   \n",
       "2    RandomForest Regressor          99.677507         98.149499   \n",
       "3                 ADA boost          97.517107         95.701375   \n",
       "4  GredientDecent Regressor          99.835965         98.679276   \n",
       "5         XGBoost Regressor          99.835965         98.693905   \n",
       "\n",
       "   Training Score_mse  Testing Score_mse  Training Score_rmse  \\\n",
       "0            0.109611           0.076201             0.331076   \n",
       "1            0.000000           0.052177             0.000000   \n",
       "2            0.003146           0.020230             0.056093   \n",
       "3            0.024225           0.046993             0.155643   \n",
       "4            0.001600           0.014438             0.040005   \n",
       "5            0.001600           0.014278             0.040005   \n",
       "\n",
       "   Testing Score_rmse  \n",
       "0            0.276045  \n",
       "1            0.228423  \n",
       "2            0.142231  \n",
       "3            0.216778  \n",
       "4            0.120159  \n",
       "5            0.119492  "
      ]
     },
     "execution_count": 64,
     "metadata": {},
     "output_type": "execute_result"
    }
   ],
   "source": [
    "Results_Dataframe"
   ]
  },
  {
   "cell_type": "markdown",
   "id": "0f01298c",
   "metadata": {},
   "source": [
    "# Conclusion:\n",
    "Sales prediction is a crucial task for businesses seeking to optimize their advertising budgets and make informed decisions. In this project, we embarked on a journey to predict future sales using machine learning techniques in Python. Our goal was to help businesses anticipate sales based on various factors, including advertising spend, target audience segmentation, and advertising platforms."
   ]
  },
  {
   "cell_type": "markdown",
   "id": "ada1deed",
   "metadata": {},
   "source": [
    "# Model Performance:\n",
    "We employed several machine learning models, including Linear Regression, DecisionTree Regressor, RandomForest Regressor, ADA Boost, Gradient Descent Regressor, and XGBoost Regressor. The results were outstanding, with each model achieving impressive accuracy levels on the testing data, ranging from 93% to 99%. This indicates the robustness and effectiveness of our predictive models in capturing the underlying patterns in the data."
   ]
  },
  {
   "cell_type": "markdown",
   "id": "18a76a17",
   "metadata": {},
   "source": [
    "# Key Takeaways:\n",
    "Accurate Sales Prediction: Our models demonstrated the ability to accurately forecast sales, providing businesses with valuable insights into future performance."
   ]
  }
 ],
 "metadata": {
  "kernelspec": {
   "display_name": "Python 3 (ipykernel)",
   "language": "python",
   "name": "python3"
  },
  "language_info": {
   "codemirror_mode": {
    "name": "ipython",
    "version": 3
   },
   "file_extension": ".py",
   "mimetype": "text/x-python",
   "name": "python",
   "nbconvert_exporter": "python",
   "pygments_lexer": "ipython3",
   "version": "3.9.7"
  }
 },
 "nbformat": 4,
 "nbformat_minor": 5
}
